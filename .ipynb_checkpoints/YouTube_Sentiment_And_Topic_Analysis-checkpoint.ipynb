{
 "cells": [
  {
   "cell_type": "markdown",
   "id": "d3b4a039",
   "metadata": {},
   "source": [
    "# YouTube Comment Analysis\n",
    "This notebook includes:\n",
    "- Sentiment classification (TF-IDF + Logistic Regression)\n",
    "- Transformer-based sentiment classifier\n",
    "- Topic modeling with LDA"
   ]
  },
  {
   "cell_type": "code",
   "execution_count": null,
   "id": "e801452c",
   "metadata": {},
   "outputs": [],
   "source": [
    "import pandas as pd\n",
    "import numpy as np\n",
    "import re\n",
    "from sklearn.model_selection import train_test_split\n",
    "from sklearn.linear_model import LogisticRegression\n",
    "from sklearn.metrics import classification_report, confusion_matrix\n",
    "from sklearn.feature_extraction.text import TfidfVectorizer\n",
    "from sklearn.decomposition import PCA\n",
    "import matplotlib.pyplot as plt\n",
    "import seaborn as sns"
   ]
  },
  {
   "cell_type": "code",
   "execution_count": null,
   "id": "6d95e97c",
   "metadata": {},
   "outputs": [],
   "source": [
    "# Load data\n",
    "file_path = 'data_with_short_comments_for_further_analysis.csv'\n",
    "df = pd.read_csv(file_path)\n",
    "\n",
    "# Clean comments\n",
    "def clean_text(text):\n",
    "    text = re.sub(r'http\\S+', '', str(text))\n",
    "    text = re.sub(r'[^A-Za-z\\u0900-\\u097F\\s]', '', text)\n",
    "    text = re.sub(r'\\s+', ' ', text).strip()\n",
    "    return text\n",
    "\n",
    "df['comment'] = df['comment'].fillna('').apply(clean_text)\n",
    "df = df.dropna(subset=['comment', 'sentiment'])"
   ]
  },
  {
   "cell_type": "markdown",
   "id": "09ad0752",
   "metadata": {},
   "source": [
    "## TF-IDF + Logistic Regression (Baseline)"
   ]
  },
  {
   "cell_type": "code",
   "execution_count": null,
   "id": "37b23dda",
   "metadata": {},
   "outputs": [],
   "source": [
    "from sklearn.preprocessing import LabelEncoder\n",
    "\n",
    "label_encoder = LabelEncoder()\n",
    "df['label'] = label_encoder.fit_transform(df['sentiment'])\n",
    "\n",
    "X = df['comment']\n",
    "y = df['label']\n",
    "\n",
    "vectorizer = TfidfVectorizer(stop_words='english', max_features=3000)\n",
    "X_vec = vectorizer.fit_transform(X)\n",
    "\n",
    "X_train, X_test, y_train, y_test = train_test_split(X_vec, y, test_size=0.2, random_state=42)\n",
    "clf = LogisticRegression(max_iter=1000)\n",
    "clf.fit(X_train, y_train)\n",
    "y_pred = clf.predict(X_test)\n",
    "print(classification_report(y_test, y_pred, target_names=label_encoder.classes_))"
   ]
  },
  {
   "cell_type": "markdown",
   "id": "684067f1",
   "metadata": {},
   "source": [
    "## Transformer-Based Sentiment Classifier (MiniLM + Logistic Regression)"
   ]
  },
  {
   "cell_type": "code",
   "execution_count": null,
   "id": "52a0e832",
   "metadata": {},
   "outputs": [],
   "source": [
    "!pip install transformers sentence-transformers torch\n",
    "\n",
    "from transformers import AutoTokenizer, AutoModel\n",
    "import torch\n",
    "from sklearn.preprocessing import LabelEncoder\n",
    "\n",
    "tokenizer = AutoTokenizer.from_pretrained('sentence-transformers/all-MiniLM-L6-v2')\n",
    "model = AutoModel.from_pretrained('sentence-transformers/all-MiniLM-L6-v2')\n",
    "\n",
    "def get_embeddings(texts, tokenizer, model):\n",
    "    inputs = tokenizer(texts, padding=True, truncation=True, return_tensors='pt', max_length=128)\n",
    "    with torch.no_grad():\n",
    "        outputs = model(**inputs)\n",
    "    return outputs.last_hidden_state[:, 0, :].cpu().numpy()\n",
    "\n",
    "df_sampled = df.sample(n=1000, random_state=42) if len(df) > 1000 else df.copy()\n",
    "X_embed = get_embeddings(df_sampled['comment'].tolist(), tokenizer, model)\n",
    "y = LabelEncoder().fit_transform(df_sampled['sentiment'])\n",
    "X_train, X_test, y_train, y_test = train_test_split(X_embed, y, test_size=0.2, random_state=42)\n",
    "clf = LogisticRegression(max_iter=1000)\n",
    "clf.fit(X_train, y_train)\n",
    "y_pred = clf.predict(X_test)\n",
    "print(classification_report(y_test, y_pred))"
   ]
  },
  {
   "cell_type": "markdown",
   "id": "6412fe9f",
   "metadata": {},
   "source": [
    "## Topic Modeling with LDA"
   ]
  },
  {
   "cell_type": "code",
   "execution_count": null,
   "id": "d44e73d3",
   "metadata": {},
   "outputs": [],
   "source": [
    "from sklearn.decomposition import LatentDirichletAllocation\n",
    "\n",
    "lda_vectorizer = TfidfVectorizer(max_df=0.95, min_df=2, stop_words='english')\n",
    "X_lda = lda_vectorizer.fit_transform(df['comment'])\n",
    "\n",
    "lda_model = LatentDirichletAllocation(n_components=5, random_state=42)\n",
    "lda_model.fit(X_lda)\n",
    "\n",
    "# Display topics\n",
    "terms = lda_vectorizer.get_feature_names_out()\n",
    "for idx, topic in enumerate(lda_model.components_):\n",
    "    print(f\"\\nTopic {idx + 1}:\")\n",
    "    print([terms[i] for i in topic.argsort()[-10:]])"
   ]
  }
 ],
 "metadata": {},
 "nbformat": 4,
 "nbformat_minor": 5
}