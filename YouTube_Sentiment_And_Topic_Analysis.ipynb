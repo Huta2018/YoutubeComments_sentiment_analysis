{
 "cells": [
  {
   "cell_type": "markdown",
   "id": "d3b4a039",
   "metadata": {},
   "source": [
    "# YouTube Comment Analysis\n",
    "This notebook includes:\n",
    "- Sentiment classification (TF-IDF + Logistic Regression)\n",
    "- Transformer-based sentiment classifier\n",
    "- Topic modeling with LDA"
   ]
  },
  {
   "cell_type": "code",
   "execution_count": 1,
   "id": "e801452c",
   "metadata": {},
   "outputs": [
    {
     "name": "stderr",
     "output_type": "stream",
     "text": [
      "/Users/hemanta/anaconda3/lib/python3.10/site-packages/pandas/core/arrays/masked.py:60: UserWarning: Pandas requires version '1.3.6' or newer of 'bottleneck' (version '1.3.5' currently installed).\n",
      "  from pandas.core import (\n"
     ]
    }
   ],
   "source": [
    "import pandas as pd\n",
    "import numpy as np\n",
    "import re\n",
    "from sklearn.model_selection import train_test_split\n",
    "from sklearn.linear_model import LogisticRegression\n",
    "from sklearn.metrics import classification_report, confusion_matrix\n",
    "from sklearn.feature_extraction.text import TfidfVectorizer\n",
    "from sklearn.decomposition import PCA\n",
    "import matplotlib.pyplot as plt\n",
    "import seaborn as sns"
   ]
  },
  {
   "cell_type": "code",
   "execution_count": 2,
   "id": "6d95e97c",
   "metadata": {},
   "outputs": [],
   "source": [
    "# Load data\n",
    "df = pd.read_csv(\"data_with_short_comments_for_further_analysis.csv\", engine='python', escapechar='\\\\', on_bad_lines='skip')\n",
    "\n",
    "# Clean comments\n",
    "def clean_text(text):\n",
    "    text = re.sub(r'http\\S+', '', str(text))\n",
    "    text = re.sub(r'[^A-Za-z\\u0900-\\u097F\\s]', '', text)\n",
    "    text = re.sub(r'\\s+', ' ', text).strip()\n",
    "    return text\n",
    "\n",
    "df['comment'] = df['comment'].fillna('').apply(clean_text)\n",
    "df = df.dropna(subset=['comment', 'sentiment'])"
   ]
  },
  {
   "cell_type": "markdown",
   "id": "09ad0752",
   "metadata": {},
   "source": [
    "## Term Frequency - inverse documentry frequency (TF-IDF)  + Logistic Regression (Baseline)"
   ]
  },
  {
   "cell_type": "code",
   "execution_count": 6,
   "id": "37b23dda",
   "metadata": {},
   "outputs": [
    {
     "name": "stdout",
     "output_type": "stream",
     "text": [
      "              precision    recall  f1-score   support\n",
      "\n",
      "      1 star       0.54      0.47      0.51      3865\n",
      "     2 stars       0.39      0.10      0.16      1104\n",
      "     3 stars       0.43      0.26      0.32      2860\n",
      "     4 stars       0.58      0.40      0.47      1747\n",
      "     5 stars       0.74      0.89      0.81     14452\n",
      "\n",
      "    accuracy                           0.68     24028\n",
      "   macro avg       0.53      0.43      0.45     24028\n",
      "weighted avg       0.64      0.68      0.65     24028\n",
      "\n"
     ]
    }
   ],
   "source": [
    "from sklearn.preprocessing import LabelEncoder\n",
    "\n",
    "label_encoder = LabelEncoder()\n",
    "df['label'] = label_encoder.fit_transform(df['sentiment'])\n",
    "\n",
    "X = df['comment']\n",
    "y = df['label']\n",
    "\n",
    "vectorizer = TfidfVectorizer(stop_words='english', max_features=3000)\n",
    "X_vec = vectorizer.fit_transform(X)\n",
    "\n",
    "X_train, X_test, y_train, y_test = train_test_split(X_vec, y, test_size=0.2, random_state=42)\n",
    "clf = LogisticRegression(max_iter=1000)\n",
    "clf.fit(X_train, y_train)\n",
    "y_pred = clf.predict(X_test)\n",
    "print(classification_report(y_test, y_pred, target_names=label_encoder.classes_))"
   ]
  },
  {
   "cell_type": "markdown",
   "id": "684067f1",
   "metadata": {},
   "source": [
    "## Transformer-Based Sentiment Classifier (MiniLM + Logistic Regression)"
   ]
  },
  {
   "cell_type": "code",
   "execution_count": 7,
   "id": "52a0e832",
   "metadata": {},
   "outputs": [
    {
     "name": "stderr",
     "output_type": "stream",
     "text": [
      "2025-05-06 20:06:59.862923: I tensorflow/core/platform/cpu_feature_guard.cc:210] This TensorFlow binary is optimized to use available CPU instructions in performance-critical operations.\n",
      "To enable the following instructions: AVX2 AVX512F AVX512_VNNI FMA, in other operations, rebuild TensorFlow with the appropriate compiler flags.\n"
     ]
    },
    {
     "name": "stdout",
     "output_type": "stream",
     "text": [
      "              precision    recall  f1-score   support\n",
      "\n",
      "           0       0.47      0.21      0.29        43\n",
      "           1       0.11      0.11      0.11         9\n",
      "           2       0.06      0.05      0.06        19\n",
      "           3       0.29      0.24      0.26        17\n",
      "           4       0.65      0.82      0.72       112\n",
      "\n",
      "    accuracy                           0.54       200\n",
      "   macro avg       0.32      0.29      0.29       200\n",
      "weighted avg       0.50      0.54      0.50       200\n",
      "\n"
     ]
    }
   ],
   "source": [
    "from transformers import AutoTokenizer, AutoModel\n",
    "import torch\n",
    "from sklearn.preprocessing import LabelEncoder\n",
    "\n",
    "tokenizer = AutoTokenizer.from_pretrained('sentence-transformers/all-MiniLM-L6-v2')\n",
    "model = AutoModel.from_pretrained('sentence-transformers/all-MiniLM-L6-v2')\n",
    "\n",
    "def get_embeddings(texts, tokenizer, model):\n",
    "    inputs = tokenizer(texts, padding=True, truncation=True, return_tensors='pt', max_length=128)\n",
    "    with torch.no_grad():\n",
    "        outputs = model(**inputs)\n",
    "    return outputs.last_hidden_state[:, 0, :].cpu().numpy()\n",
    "\n",
    "df_sampled = df.sample(n=1000, random_state=42) if len(df) > 1000 else df.copy()\n",
    "X_embed = get_embeddings(df_sampled['comment'].tolist(), tokenizer, model)\n",
    "y = LabelEncoder().fit_transform(df_sampled['sentiment'])\n",
    "X_train, X_test, y_train, y_test = train_test_split(X_embed, y, test_size=0.2, random_state=42)\n",
    "clf = LogisticRegression(max_iter=1000)\n",
    "clf.fit(X_train, y_train)\n",
    "y_pred = clf.predict(X_test)\n",
    "print(classification_report(y_test, y_pred))"
   ]
  },
  {
   "cell_type": "markdown",
   "id": "6412fe9f",
   "metadata": {},
   "source": [
    "## Topic Modeling with LDA"
   ]
  },
  {
   "cell_type": "code",
   "execution_count": 7,
   "id": "d44e73d3",
   "metadata": {},
   "outputs": [
    {
     "name": "stdout",
     "output_type": "stream",
     "text": [
      "\n",
      "Topic 1:\n",
      "['great', 'songs', 'video', 'really', 'love', 'touching', 'heart', 'wow', 'nice', 'song']\n",
      "\n",
      "Topic 2:\n",
      "['wow', 'team', 'prakash', 'geet', 'ramro', 'trending', 'wishes', 'waiting', 'luck', 'best']\n",
      "\n",
      "Topic 3:\n",
      "['उन', 'मन', 'हर', 'पर', 'पन', 'सप', 'सम', 'भन', 'रक', 'गर']\n",
      "\n",
      "Topic 4:\n",
      "['singer', 'parkash', 'love', 'hats', 'team', 'sir', 'respect', 'congratulations', 'saput', 'prakash']\n",
      "\n",
      "Topic 5:\n",
      "['मल', 'पर', 'कत', 'अत', 'बध', 'आह', 'सफलत', 'रक', 'भक', 'मन']\n"
     ]
    }
   ],
   "source": [
    "from sklearn.decomposition import LatentDirichletAllocation\n",
    "\n",
    "lda_vectorizer = TfidfVectorizer(max_df=0.95, min_df=2, stop_words='english')\n",
    "X_lda = lda_vectorizer.fit_transform(df['comment'])\n",
    "\n",
    "lda_model = LatentDirichletAllocation(n_components=5, random_state=42)\n",
    "lda_model.fit(X_lda)\n",
    "\n",
    "# Display topics\n",
    "terms = lda_vectorizer.get_feature_names_out()\n",
    "for idx, topic in enumerate(lda_model.components_):\n",
    "    print(f\"\\nTopic {idx + 1}:\")\n",
    "    print([terms[i] for i in topic.argsort()[-10:]])"
   ]
  },
  {
   "cell_type": "code",
   "execution_count": 11,
   "id": "978be69f-8612-4349-b572-6b1c3f1d6554",
   "metadata": {},
   "outputs": [
    {
     "ename": "ModuleNotFoundError",
     "evalue": "No module named 'datasets'",
     "output_type": "error",
     "traceback": [
      "\u001b[0;31m---------------------------------------------------------------------------\u001b[0m",
      "\u001b[0;31mModuleNotFoundError\u001b[0m                       Traceback (most recent call last)",
      "Cell \u001b[0;32mIn[11], line 1\u001b[0m\n\u001b[0;32m----> 1\u001b[0m \u001b[38;5;28;01mfrom\u001b[39;00m \u001b[38;5;21;01mdatasets\u001b[39;00m \u001b[38;5;28;01mimport\u001b[39;00m Dataset\n",
      "\u001b[0;31mModuleNotFoundError\u001b[0m: No module named 'datasets'"
     ]
    }
   ],
   "source": [
    "from datasets import Dataset"
   ]
  },
  {
   "cell_type": "code",
   "execution_count": 10,
   "id": "a59000b7-41c0-4d3b-a5ac-3dff82f8309f",
   "metadata": {},
   "outputs": [
    {
     "ename": "ModuleNotFoundError",
     "evalue": "No module named 'datasets'",
     "output_type": "error",
     "traceback": [
      "\u001b[0;31m---------------------------------------------------------------------------\u001b[0m",
      "\u001b[0;31mModuleNotFoundError\u001b[0m                       Traceback (most recent call last)",
      "Cell \u001b[0;32mIn[10], line 4\u001b[0m\n\u001b[1;32m      2\u001b[0m \u001b[38;5;28;01mimport\u001b[39;00m \u001b[38;5;21;01mpandas\u001b[39;00m \u001b[38;5;28;01mas\u001b[39;00m \u001b[38;5;21;01mpd\u001b[39;00m\n\u001b[1;32m      3\u001b[0m \u001b[38;5;28;01mfrom\u001b[39;00m \u001b[38;5;21;01msklearn\u001b[39;00m\u001b[38;5;21;01m.\u001b[39;00m\u001b[38;5;21;01mmodel_selection\u001b[39;00m \u001b[38;5;28;01mimport\u001b[39;00m train_test_split\n\u001b[0;32m----> 4\u001b[0m \u001b[38;5;28;01mfrom\u001b[39;00m \u001b[38;5;21;01mdatasets\u001b[39;00m \u001b[38;5;28;01mimport\u001b[39;00m Dataset\n\u001b[1;32m      5\u001b[0m \u001b[38;5;28;01mfrom\u001b[39;00m \u001b[38;5;21;01mtransformers\u001b[39;00m \u001b[38;5;28;01mimport\u001b[39;00m BertTokenizer, BertForSequenceClassification, TrainingArguments, Trainer\n\u001b[1;32m      6\u001b[0m \u001b[38;5;28;01mimport\u001b[39;00m \u001b[38;5;21;01mtorch\u001b[39;00m\n",
      "\u001b[0;31mModuleNotFoundError\u001b[0m: No module named 'datasets'"
     ]
    }
   ],
   "source": [
    "# 2. Import libraries\n",
    "import pandas as pd\n",
    "from sklearn.model_selection import train_test_split\n",
    "from datasets import Dataset\n",
    "from transformers import BertTokenizer, BertForSequenceClassification, TrainingArguments, Trainer\n",
    "import torch\n",
    "from sklearn.metrics import classification_report\n",
    "\n",
    "# 3. Load your dataset\n",
    "df = pd.read_csv(\"your_dataset.csv\")  # Replace with your actual file\n",
    "df = df[['text', 'label']]            # Keep only necessary columns\n",
    "\n",
    "# 4. Train/test split\n",
    "train_df, test_df = train_test_split(df, test_size=0.2, stratify=df['label'], random_state=42)\n",
    "\n",
    "# 5. Convert to Hugging Face Datasets\n",
    "train_ds = Dataset.from_pandas(train_df)\n",
    "test_ds = Dataset.from_pandas(test_df)\n",
    "\n",
    "# 6. Load tokenizer\n",
    "tokenizer = BertTokenizer.from_pretrained('bert-base-uncased')\n",
    "\n",
    "# 7. Tokenize text\n",
    "def tokenize(batch):\n",
    "    return tokenizer(batch['text'], padding='max_length', truncation=True, max_length=256)\n",
    "\n",
    "train_ds = train_ds.map(tokenize, batched=True)\n",
    "test_ds = test_ds.map(tokenize, batched=True)\n",
    "\n",
    "# 8. Set format for PyTorch\n",
    "train_ds.set_format('torch', columns=['input_ids', 'attention_mask', 'label'])\n",
    "test_ds.set_format('torch', columns=['input_ids', 'attention_mask', 'label'])\n",
    "\n",
    "# 9. Load pre-trained BERT with classification head\n",
    "model = BertForSequenceClassification.from_pretrained('bert-base-uncased', num_labels=5)\n",
    "\n",
    "# 10. Define training arguments\n",
    "training_args = TrainingArguments(\n",
    "    output_dir='./results',\n",
    "    num_train_epochs=3,\n",
    "    per_device_train_batch_size=16,\n",
    "    per_device_eval_batch_size=32,\n",
    "    evaluation_strategy=\"epoch\",\n",
    "    logging_dir='./logs',\n",
    "    load_best_model_at_end=True,\n",
    "    save_strategy=\"epoch\",\n",
    ")\n",
    "\n",
    "# 11. Define metrics\n",
    "def compute_metrics(p):\n",
    "    preds = torch.argmax(torch.tensor(p.predictions), axis=1)\n",
    "    return classification_report(p.label_ids, preds, output_dict=True)\n",
    "\n",
    "# 12. Create Trainer\n",
    "trainer = Trainer(\n",
    "    model=model,\n",
    "    args=training_args,\n",
    "    train_dataset=train_ds,\n",
    "    eval_dataset=test_ds,\n",
    "    compute_metrics=compute_metrics,\n",
    ")\n",
    "\n",
    "# 13. Train the model\n",
    "trainer.train()\n",
    "\n",
    "# 14. Evaluate\n",
    "trainer.evaluate()"
   ]
  },
  {
   "cell_type": "code",
   "execution_count": 12,
   "id": "897e56a1-159e-4e60-816d-efb32189018f",
   "metadata": {},
   "outputs": [],
   "source": [
    "## 📁 Project Structure\n",
    "\n"
   ]
  },
  {
   "cell_type": "code",
   "execution_count": null,
   "id": "12fc3d55-9a38-480a-a2e2-6b04f9f12163",
   "metadata": {},
   "outputs": [],
   "source": []
  }
 ],
 "metadata": {
  "kernelspec": {
   "display_name": "Python 3 (ipykernel)",
   "language": "python",
   "name": "python3"
  },
  "language_info": {
   "codemirror_mode": {
    "name": "ipython",
    "version": 3
   },
   "file_extension": ".py",
   "mimetype": "text/x-python",
   "name": "python",
   "nbconvert_exporter": "python",
   "pygments_lexer": "ipython3",
   "version": "3.10.9"
  }
 },
 "nbformat": 4,
 "nbformat_minor": 5
}
