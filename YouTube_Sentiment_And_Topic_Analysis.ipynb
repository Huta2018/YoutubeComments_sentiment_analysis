{
 "cells": [
  {
   "cell_type": "markdown",
   "id": "d3b4a039",
   "metadata": {},
   "source": [
    "# YouTube Comment Analysis\n",
    "This notebook includes:\n",
    "- Sentiment classification (TF-IDF + Logistic Regression)\n",
    "- Transformer-based sentiment classifier\n",
    "- Topic modeling with LDA"
   ]
  },
  {
   "cell_type": "code",
   "execution_count": 1,
   "id": "e801452c",
   "metadata": {},
   "outputs": [
    {
     "name": "stderr",
     "output_type": "stream",
     "text": [
      "/Users/hemanta/anaconda3/lib/python3.10/site-packages/pandas/core/arrays/masked.py:60: UserWarning: Pandas requires version '1.3.6' or newer of 'bottleneck' (version '1.3.5' currently installed).\n",
      "  from pandas.core import (\n"
     ]
    }
   ],
   "source": [
    "import pandas as pd\n",
    "import numpy as np\n",
    "import re\n",
    "from sklearn.model_selection import train_test_split\n",
    "from sklearn.linear_model import LogisticRegression\n",
    "from sklearn.metrics import classification_report, confusion_matrix\n",
    "from sklearn.feature_extraction.text import TfidfVectorizer\n",
    "from sklearn.decomposition import PCA\n",
    "import matplotlib.pyplot as plt\n",
    "import seaborn as sns"
   ]
  },
  {
   "cell_type": "code",
   "execution_count": 2,
   "id": "6d95e97c",
   "metadata": {},
   "outputs": [],
   "source": [
    "# Load data\n",
    "df = pd.read_csv(\"data_with_short_comments_for_further_analysis.csv\", engine='python', escapechar='\\\\', on_bad_lines='skip')\n",
    "\n",
    "# Clean comments\n",
    "def clean_text(text):\n",
    "    text = re.sub(r'http\\S+', '', str(text))\n",
    "    text = re.sub(r'[^A-Za-z\\u0900-\\u097F\\s]', '', text)\n",
    "    text = re.sub(r'\\s+', ' ', text).strip()\n",
    "    return text\n",
    "\n",
    "df['comment'] = df['comment'].fillna('').apply(clean_text)\n",
    "df = df.dropna(subset=['comment', 'sentiment'])"
   ]
  },
  {
   "cell_type": "markdown",
   "id": "09ad0752",
   "metadata": {},
   "source": [
    "## Term Frequency - inverse documentry frequency (TF-IDF)  + Logistic Regression (Baseline)"
   ]
  },
  {
   "cell_type": "code",
   "execution_count": 6,
   "id": "37b23dda",
   "metadata": {},
   "outputs": [
    {
     "name": "stdout",
     "output_type": "stream",
     "text": [
      "              precision    recall  f1-score   support\n",
      "\n",
      "      1 star       0.54      0.47      0.51      3865\n",
      "     2 stars       0.39      0.10      0.16      1104\n",
      "     3 stars       0.43      0.26      0.32      2860\n",
      "     4 stars       0.58      0.40      0.47      1747\n",
      "     5 stars       0.74      0.89      0.81     14452\n",
      "\n",
      "    accuracy                           0.68     24028\n",
      "   macro avg       0.53      0.43      0.45     24028\n",
      "weighted avg       0.64      0.68      0.65     24028\n",
      "\n"
     ]
    }
   ],
   "source": [
    "from sklearn.preprocessing import LabelEncoder\n",
    "\n",
    "label_encoder = LabelEncoder()\n",
    "df['label'] = label_encoder.fit_transform(df['sentiment'])\n",
    "\n",
    "X = df['comment']\n",
    "y = df['label']\n",
    "\n",
    "vectorizer = TfidfVectorizer(stop_words='english', max_features=3000)\n",
    "X_vec = vectorizer.fit_transform(X)\n",
    "\n",
    "X_train, X_test, y_train, y_test = train_test_split(X_vec, y, test_size=0.2, random_state=42)\n",
    "clf = LogisticRegression(max_iter=1000)\n",
    "clf.fit(X_train, y_train)\n",
    "y_pred = clf.predict(X_test)\n",
    "print(classification_report(y_test, y_pred, target_names=label_encoder.classes_))"
   ]
  },
  {
   "cell_type": "markdown",
   "id": "684067f1",
   "metadata": {},
   "source": [
    "## Transformer-Based Sentiment Classifier (MiniLM + Logistic Regression)"
   ]
  },
  {
   "cell_type": "code",
   "execution_count": 7,
   "id": "52a0e832",
   "metadata": {},
   "outputs": [
    {
     "name": "stderr",
     "output_type": "stream",
     "text": [
      "2025-05-06 20:06:59.862923: I tensorflow/core/platform/cpu_feature_guard.cc:210] This TensorFlow binary is optimized to use available CPU instructions in performance-critical operations.\n",
      "To enable the following instructions: AVX2 AVX512F AVX512_VNNI FMA, in other operations, rebuild TensorFlow with the appropriate compiler flags.\n"
     ]
    },
    {
     "name": "stdout",
     "output_type": "stream",
     "text": [
      "              precision    recall  f1-score   support\n",
      "\n",
      "           0       0.47      0.21      0.29        43\n",
      "           1       0.11      0.11      0.11         9\n",
      "           2       0.06      0.05      0.06        19\n",
      "           3       0.29      0.24      0.26        17\n",
      "           4       0.65      0.82      0.72       112\n",
      "\n",
      "    accuracy                           0.54       200\n",
      "   macro avg       0.32      0.29      0.29       200\n",
      "weighted avg       0.50      0.54      0.50       200\n",
      "\n"
     ]
    }
   ],
   "source": [
    "from transformers import AutoTokenizer, AutoModel\n",
    "import torch\n",
    "from sklearn.preprocessing import LabelEncoder\n",
    "\n",
    "tokenizer = AutoTokenizer.from_pretrained('sentence-transformers/all-MiniLM-L6-v2')\n",
    "model = AutoModel.from_pretrained('sentence-transformers/all-MiniLM-L6-v2')\n",
    "\n",
    "def get_embeddings(texts, tokenizer, model):\n",
    "    inputs = tokenizer(texts, padding=True, truncation=True, return_tensors='pt', max_length=128)\n",
    "    with torch.no_grad():\n",
    "        outputs = model(**inputs)\n",
    "    return outputs.last_hidden_state[:, 0, :].cpu().numpy()\n",
    "\n",
    "df_sampled = df.sample(n=1000, random_state=42) if len(df) > 1000 else df.copy()\n",
    "X_embed = get_embeddings(df_sampled['comment'].tolist(), tokenizer, model)\n",
    "y = LabelEncoder().fit_transform(df_sampled['sentiment'])\n",
    "X_train, X_test, y_train, y_test = train_test_split(X_embed, y, test_size=0.2, random_state=42)\n",
    "clf = LogisticRegression(max_iter=1000)\n",
    "clf.fit(X_train, y_train)\n",
    "y_pred = clf.predict(X_test)\n",
    "print(classification_report(y_test, y_pred))"
   ]
  }
 ],
 "metadata": {
  "kernelspec": {
   "display_name": "Python 3 (ipykernel)",
   "language": "python",
   "name": "python3"
  },
  "language_info": {
   "codemirror_mode": {
    "name": "ipython",
    "version": 3
   },
   "file_extension": ".py",
   "mimetype": "text/x-python",
   "name": "python",
   "nbconvert_exporter": "python",
   "pygments_lexer": "ipython3",
   "version": "3.10.9"
  }
 },
 "nbformat": 4,
 "nbformat_minor": 5
}
