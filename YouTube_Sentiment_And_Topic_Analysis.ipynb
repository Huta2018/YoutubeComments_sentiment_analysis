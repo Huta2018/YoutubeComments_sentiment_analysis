{
 "cells": [
  {
   "cell_type": "markdown",
   "id": "d3b4a039",
   "metadata": {},
   "source": [
    "# YouTube Comment Analysis\n",
    "This notebook includes:\n",
    "- Sentiment classification (TF-IDF + Logistic Regression)\n",
    "- Transformer-based sentiment classifier\n",
    "- Topic modeling with LDA"
   ]
  },
  {
   "cell_type": "markdown",
   "id": "341e7cde-fb04-4078-bdc0-c4bb95db1245",
   "metadata": {},
   "source": [
    "- Sentiment analysis is used to determine the sentiment behind the textual data. In the context of youtube comments it helps to understand how viewers liked the videos or not. Based on sentiments, content creator can improve their content and focus on the topics that his/her viewers likes.\n",
    "- In business it helps gain valuable customer experiences about particular item/brand. Which in turn helps in improving produt quality and customer experience."
   ]
  },
  {
   "cell_type": "markdown",
   "id": "f28b0d5f-fbc3-4937-8fb0-b27da8f0fa10",
   "metadata": {},
   "source": [
    "## Importing librabries "
   ]
  },
  {
   "cell_type": "code",
   "execution_count": 36,
   "id": "e801452c",
   "metadata": {},
   "outputs": [],
   "source": [
    "import pandas as pd\n",
    "import numpy as np\n",
    "import re\n",
    "from sklearn.model_selection import train_test_split\n",
    "from sklearn.linear_model import LogisticRegression\n",
    "from sklearn.metrics import classification_report, confusion_matrix\n",
    "from sklearn.feature_extraction.text import TfidfVectorizer\n",
    "from sklearn.preprocessing import LabelEncoder\n",
    "from sklearn.metrics import accuracy_score, confusion_matrix\n",
    "from sklearn.decomposition import PCA\n",
    "import matplotlib.pyplot as plt\n",
    "import seaborn as sns"
   ]
  },
  {
   "cell_type": "code",
   "execution_count": 37,
   "id": "6d95e97c",
   "metadata": {},
   "outputs": [],
   "source": [
    "# read the preprocessed dataset in csv format\n",
    "df = pd.read_csv(\"data_with_short_comments_for_further_analysis.csv\", engine='python', escapechar='\\\\', on_bad_lines='skip')\n",
    "\n",
    "# Clean comments\n",
    "def clean_text(text):\n",
    "    text = re.sub(r'http\\S+', '', str(text))\n",
    "    text = re.sub(r'[^A-Za-z\\u0900-\\u097F\\s]', '', text)\n",
    "    text = re.sub(r'\\s+', ' ', text).strip()\n",
    "    return text\n",
    "\n",
    "df['comment'] = df['comment'].fillna('').apply(clean_text)\n",
    "df = df.dropna(subset=['comment', 'sentiment'])"
   ]
  },
  {
   "cell_type": "code",
   "execution_count": 38,
   "id": "f97257c3-9349-4e8c-bc59-d0dd462b3c6e",
   "metadata": {},
   "outputs": [
    {
     "data": {
      "text/html": [
       "<div>\n",
       "<style scoped>\n",
       "    .dataframe tbody tr th:only-of-type {\n",
       "        vertical-align: middle;\n",
       "    }\n",
       "\n",
       "    .dataframe tbody tr th {\n",
       "        vertical-align: top;\n",
       "    }\n",
       "\n",
       "    .dataframe thead th {\n",
       "        text-align: right;\n",
       "    }\n",
       "</style>\n",
       "<table border=\"1\" class=\"dataframe\">\n",
       "  <thead>\n",
       "    <tr style=\"text-align: right;\">\n",
       "      <th></th>\n",
       "      <th>video_id</th>\n",
       "      <th>author</th>\n",
       "      <th>comment</th>\n",
       "      <th>language</th>\n",
       "      <th>short_comment</th>\n",
       "      <th>sentiment</th>\n",
       "    </tr>\n",
       "  </thead>\n",
       "  <tbody>\n",
       "    <tr>\n",
       "      <th>0</th>\n",
       "      <td>EL7OF3Kqw-4</td>\n",
       "      <td>@PrakashSaput</td>\n",
       "      <td>चलचित्र बसन्तमा रहेको एउटा गीत मोटर को लिरिकल ...</td>\n",
       "      <td>Nepali</td>\n",
       "      <td>चलचित्र बसन्तमा रहेको एउटा गीत \"मोटर\" को लिरिक...</td>\n",
       "      <td>3 stars</td>\n",
       "    </tr>\n",
       "    <tr>\n",
       "      <th>1</th>\n",
       "      <td>EL7OF3Kqw-4</td>\n",
       "      <td>@Pareshrai_official</td>\n",
       "      <td>Music compose मा Jhuma limbu jiu koi name raix...</td>\n",
       "      <td>Nepali</td>\n",
       "      <td>Music compose मा Jhuma limbu jiu koi name raix...</td>\n",
       "      <td>3 stars</td>\n",
       "    </tr>\n",
       "    <tr>\n",
       "      <th>2</th>\n",
       "      <td>EL7OF3Kqw-4</td>\n",
       "      <td>@SunilsenchuryAakarengineer-y3w</td>\n",
       "      <td>Prakash dai is My best hearing in Nepal you ar...</td>\n",
       "      <td>English</td>\n",
       "      <td>Prakash dai is My best hearing in Nepal❤❤ ❤❤❤❤...</td>\n",
       "      <td>5 stars</td>\n",
       "    </tr>\n",
       "    <tr>\n",
       "      <th>3</th>\n",
       "      <td>EL7OF3Kqw-4</td>\n",
       "      <td>@SushmitaKC-nz5ch</td>\n",
       "      <td>Songs are really nice heart touching plz we ne...</td>\n",
       "      <td>English</td>\n",
       "      <td>Songs are really nice heart touching plz we ne...</td>\n",
       "      <td>5 stars</td>\n",
       "    </tr>\n",
       "    <tr>\n",
       "      <th>4</th>\n",
       "      <td>EL7OF3Kqw-4</td>\n",
       "      <td>@Silent-Simma</td>\n",
       "      <td>Wordings are great in the song Love it</td>\n",
       "      <td>English</td>\n",
       "      <td>Wordings are great in the song. Love it🙏🏻</td>\n",
       "      <td>5 stars</td>\n",
       "    </tr>\n",
       "  </tbody>\n",
       "</table>\n",
       "</div>"
      ],
      "text/plain": [
       "      video_id                           author  \\\n",
       "0  EL7OF3Kqw-4                    @PrakashSaput   \n",
       "1  EL7OF3Kqw-4              @Pareshrai_official   \n",
       "2  EL7OF3Kqw-4  @SunilsenchuryAakarengineer-y3w   \n",
       "3  EL7OF3Kqw-4                @SushmitaKC-nz5ch   \n",
       "4  EL7OF3Kqw-4                    @Silent-Simma   \n",
       "\n",
       "                                             comment language  \\\n",
       "0  चलचित्र बसन्तमा रहेको एउटा गीत मोटर को लिरिकल ...   Nepali   \n",
       "1  Music compose मा Jhuma limbu jiu koi name raix...   Nepali   \n",
       "2  Prakash dai is My best hearing in Nepal you ar...  English   \n",
       "3  Songs are really nice heart touching plz we ne...  English   \n",
       "4             Wordings are great in the song Love it  English   \n",
       "\n",
       "                                       short_comment sentiment  \n",
       "0  चलचित्र बसन्तमा रहेको एउटा गीत \"मोटर\" को लिरिक...   3 stars  \n",
       "1  Music compose मा Jhuma limbu jiu koi name raix...   3 stars  \n",
       "2  Prakash dai is My best hearing in Nepal❤❤ ❤❤❤❤...   5 stars  \n",
       "3  Songs are really nice heart touching plz we ne...   5 stars  \n",
       "4          Wordings are great in the song. Love it🙏🏻   5 stars  "
      ]
     },
     "execution_count": 38,
     "metadata": {},
     "output_type": "execute_result"
    }
   ],
   "source": [
    "df.head()"
   ]
  },
  {
   "cell_type": "markdown",
   "id": "09ad0752",
   "metadata": {},
   "source": [
    "## Term Frequency - inverse documentry frequency (TF-IDF)  + Logistic Regression (Baseline)"
   ]
  },
  {
   "cell_type": "markdown",
   "id": "607ab7da-97b5-4677-82ff-2d21a6f5ffef",
   "metadata": {},
   "source": [
    "## Vectorize the text data"
   ]
  },
  {
   "cell_type": "code",
   "execution_count": 39,
   "id": "fa404ebd-9d69-4b13-87d5-cdec8404d24b",
   "metadata": {},
   "outputs": [],
   "source": [
    "label_encoder = LabelEncoder()\n",
    "df['label'] = label_encoder.fit_transform(df['sentiment'])\n",
    "vectorizer = TfidfVectorizer(stop_words='english', max_features=3000)\n",
    "X = df['comment']\n",
    "y = df['label']\n",
    "X_vec = vectorizer.fit_transform(X)"
   ]
  },
  {
   "cell_type": "markdown",
   "id": "b999bd4a-d2ce-4d39-b67c-426fd8cbb2a5",
   "metadata": {},
   "source": [
    "## Model training, Evaluation and prediction"
   ]
  },
  {
   "cell_type": "code",
   "execution_count": 40,
   "id": "37b23dda",
   "metadata": {},
   "outputs": [
    {
     "data": {
      "image/png": "[encoded data removed]",
      "text/plain": [
       "<Figure size 640x480 with 2 Axes>"
      ]
     },
     "metadata": {},
     "output_type": "display_data"
    },
    {
     "name": "stdout",
     "output_type": "stream",
     "text": [
      "0.6771266855335442\n"
     ]
    }
   ],
   "source": [
    "X_train, X_test, y_train, y_test = train_test_split(X_vec, y, test_size=0.2, random_state=42)\n",
    "\n",
    "model= LogisticRegression(max_iter=1000)\n",
    "model.fit(X_train, y_train)\n",
    "\n",
    "y_pred = model.predict(X_test)\n",
    "accuracy = accuracy_score(y_test, y_pred)\n",
    "confusion_matrix = confusion_matrix(y_test, y_pred)\n",
    "\n",
    "sns.heatmap(confusion_matrix, annot=True, fmt = 'd', cmap = \"Blues\")\n",
    "plt.title(\"Confusion Matrix\")\n",
    "plt.xlabel(\"Predicted\")\n",
    "plt.ylabel(\"Actual\")\n",
    "plt.show()\n",
    "print(accuracy)\n",
    "#print(classification_report(y_test, y_pred, target_names=label_encoder.classes_))"
   ]
  },
  {
   "cell_type": "markdown",
   "id": "63fe72dc-f1e1-42bb-8efe-a3da629a82d1",
   "metadata": {},
   "source": [
    "## Lets display classification report"
   ]
  },
  {
   "cell_type": "code",
   "execution_count": 41,
   "id": "a94b3b30-5cc9-4521-93b5-384213a93400",
   "metadata": {},
   "outputs": [],
   "source": [
    "from sklearn.metrics import classification_report, confusion_matrix\n",
    "\n",
    "report_dict = classification_report(\n",
    "    y_test, y_pred, target_names=label_encoder.classes_, output_dict=True\n",
    ")\n",
    "\n",
    "df_report = pd.DataFrame(report_dict).transpose().iloc[:-3]  # drop macro/weighted avg\n",
    "\n",
    "# Lets add comments on it\n",
    "def comment_row(row):\n",
    "    f1 = row['f1-score']\n",
    "    recall = row['recall']\n",
    "    if f1 >= 0.7:\n",
    "        return \"Excellent\"\n",
    "    elif f1 >= 0.5:\n",
    "        return \"Good\"\n",
    "    elif recall < 0.2:\n",
    "        return \"Very low recall – model struggles\"\n",
    "    else:\n",
    "        return \"Needs improvement\"\n",
    "        \n",
    "df_report['Comment'] = df_report.apply(comment_row, axis=1)\n",
    "df_report = df_report.round(2)"
   ]
  },
  {
   "cell_type": "code",
   "execution_count": 42,
   "id": "4b21a7de-5bbb-4327-8ddb-40cddb6d810d",
   "metadata": {},
   "outputs": [
    {
     "data": {
      "text/html": [
       "<style type=\"text/css\">\n",
       "#T_8594e_row0_col0 {\n",
       "  background-color: #97d385;\n",
       "  color: #000000;\n",
       "}\n",
       "#T_8594e_row0_col1 {\n",
       "  background-color: #86cc7f;\n",
       "  color: #000000;\n",
       "}\n",
       "#T_8594e_row0_col2 {\n",
       "  background-color: #68be71;\n",
       "  color: #000000;\n",
       "}\n",
       "#T_8594e_row0_col4, #T_8594e_row1_col4, #T_8594e_row2_col4, #T_8594e_row3_col4, #T_8594e_row4_col4 {\n",
       "  font-weight: bold;\n",
       "}\n",
       "#T_8594e_row1_col0, #T_8594e_row1_col1, #T_8594e_row1_col2 {\n",
       "  background-color: #ffffe5;\n",
       "  color: #000000;\n",
       "}\n",
       "#T_8594e_row2_col0 {\n",
       "  background-color: #f8fcbd;\n",
       "  color: #000000;\n",
       "}\n",
       "#T_8594e_row2_col1 {\n",
       "  background-color: #e5f5ac;\n",
       "  color: #000000;\n",
       "}\n",
       "#T_8594e_row2_col2 {\n",
       "  background-color: #daf0a4;\n",
       "  color: #000000;\n",
       "}\n",
       "#T_8594e_row3_col0 {\n",
       "  background-color: #66bd70;\n",
       "  color: #f1f1f1;\n",
       "}\n",
       "#T_8594e_row3_col1 {\n",
       "  background-color: #abdc8d;\n",
       "  color: #000000;\n",
       "}\n",
       "#T_8594e_row3_col2 {\n",
       "  background-color: #81ca7d;\n",
       "  color: #000000;\n",
       "}\n",
       "#T_8594e_row4_col0, #T_8594e_row4_col1, #T_8594e_row4_col2 {\n",
       "  background-color: #004529;\n",
       "  color: #f1f1f1;\n",
       "}\n",
       "</style>\n",
       "<table id=\"T_8594e\">\n",
       "  <thead>\n",
       "    <tr>\n",
       "      <th class=\"blank level0\" >&nbsp;</th>\n",
       "      <th id=\"T_8594e_level0_col0\" class=\"col_heading level0 col0\" >precision</th>\n",
       "      <th id=\"T_8594e_level0_col1\" class=\"col_heading level0 col1\" >recall</th>\n",
       "      <th id=\"T_8594e_level0_col2\" class=\"col_heading level0 col2\" >f1-score</th>\n",
       "      <th id=\"T_8594e_level0_col3\" class=\"col_heading level0 col3\" >support</th>\n",
       "      <th id=\"T_8594e_level0_col4\" class=\"col_heading level0 col4\" >Comment</th>\n",
       "    </tr>\n",
       "  </thead>\n",
       "  <tbody>\n",
       "    <tr>\n",
       "      <th id=\"T_8594e_level0_row0\" class=\"row_heading level0 row0\" >1 star</th>\n",
       "      <td id=\"T_8594e_row0_col0\" class=\"data row0 col0\" >0.54</td>\n",
       "      <td id=\"T_8594e_row0_col1\" class=\"data row0 col1\" >0.47</td>\n",
       "      <td id=\"T_8594e_row0_col2\" class=\"data row0 col2\" >0.51</td>\n",
       "      <td id=\"T_8594e_row0_col3\" class=\"data row0 col3\" >3865</td>\n",
       "      <td id=\"T_8594e_row0_col4\" class=\"data row0 col4\" >Good</td>\n",
       "    </tr>\n",
       "    <tr>\n",
       "      <th id=\"T_8594e_level0_row1\" class=\"row_heading level0 row1\" >2 stars</th>\n",
       "      <td id=\"T_8594e_row1_col0\" class=\"data row1 col0\" >0.39</td>\n",
       "      <td id=\"T_8594e_row1_col1\" class=\"data row1 col1\" >0.10</td>\n",
       "      <td id=\"T_8594e_row1_col2\" class=\"data row1 col2\" >0.16</td>\n",
       "      <td id=\"T_8594e_row1_col3\" class=\"data row1 col3\" >1104</td>\n",
       "      <td id=\"T_8594e_row1_col4\" class=\"data row1 col4\" >Very low recall – model struggles</td>\n",
       "    </tr>\n",
       "    <tr>\n",
       "      <th id=\"T_8594e_level0_row2\" class=\"row_heading level0 row2\" >3 stars</th>\n",
       "      <td id=\"T_8594e_row2_col0\" class=\"data row2 col0\" >0.43</td>\n",
       "      <td id=\"T_8594e_row2_col1\" class=\"data row2 col1\" >0.26</td>\n",
       "      <td id=\"T_8594e_row2_col2\" class=\"data row2 col2\" >0.32</td>\n",
       "      <td id=\"T_8594e_row2_col3\" class=\"data row2 col3\" >2860</td>\n",
       "      <td id=\"T_8594e_row2_col4\" class=\"data row2 col4\" >Needs improvement</td>\n",
       "    </tr>\n",
       "    <tr>\n",
       "      <th id=\"T_8594e_level0_row3\" class=\"row_heading level0 row3\" >4 stars</th>\n",
       "      <td id=\"T_8594e_row3_col0\" class=\"data row3 col0\" >0.58</td>\n",
       "      <td id=\"T_8594e_row3_col1\" class=\"data row3 col1\" >0.40</td>\n",
       "      <td id=\"T_8594e_row3_col2\" class=\"data row3 col2\" >0.47</td>\n",
       "      <td id=\"T_8594e_row3_col3\" class=\"data row3 col3\" >1747</td>\n",
       "      <td id=\"T_8594e_row3_col4\" class=\"data row3 col4\" >Needs improvement</td>\n",
       "    </tr>\n",
       "    <tr>\n",
       "      <th id=\"T_8594e_level0_row4\" class=\"row_heading level0 row4\" >5 stars</th>\n",
       "      <td id=\"T_8594e_row4_col0\" class=\"data row4 col0\" >0.74</td>\n",
       "      <td id=\"T_8594e_row4_col1\" class=\"data row4 col1\" >0.89</td>\n",
       "      <td id=\"T_8594e_row4_col2\" class=\"data row4 col2\" >0.81</td>\n",
       "      <td id=\"T_8594e_row4_col3\" class=\"data row4 col3\" >14452</td>\n",
       "      <td id=\"T_8594e_row4_col4\" class=\"data row4 col4\" >Excellent</td>\n",
       "    </tr>\n",
       "  </tbody>\n",
       "</table>\n"
      ],
      "text/plain": [
       "<pandas.io.formats.style.Styler at 0x7f9023bbc580>"
      ]
     },
     "metadata": {},
     "output_type": "display_data"
    },
    {
     "data": {
      "image/png": "[encoded data removed]",
      "text/plain": [
       "<Figure size 1800x600 with 3 Axes>"
      ]
     },
     "metadata": {},
     "output_type": "display_data"
    }
   ],
   "source": [
    "#Lets make a display plot, we will create two plots here\n",
    "\n",
    "fig, ax = plt.subplots(1, 2, figsize=(18, 6), gridspec_kw={'width_ratios': [1, 1.2]})\n",
    "\n",
    "# for confusion matrix\n",
    "cm = confusion_matrix(y_test, y_pred)\n",
    "sns.heatmap(cm, annot=True, fmt='d', cmap='Blues', ax=ax[0],\n",
    "            xticklabels=label_encoder.classes_,\n",
    "            yticklabels=label_encoder.classes_)\n",
    "\n",
    "ax[0].set_title(\"Confusion Matrix\")\n",
    "ax[0].set_xlabel(\"Predicted\")\n",
    "ax[0].set_ylabel(\"Actual\")\n",
    "\n",
    "ax[1].axis('off')\n",
    "\n",
    "#styled classification report\n",
    "styled_table = df_report.style.background_gradient(\n",
    "    subset=['precision', 'recall', 'f1-score'], cmap='YlGn'\n",
    ").format({\n",
    "    'precision': '{:.2f}', 'recall': '{:.2f}', 'f1-score': '{:.2f}', 'support': '{:.0f}'\n",
    "}).set_properties(subset=['Comment'], **{'font-weight': 'bold'})\n",
    "\n",
    "\n",
    "# Display table using IPython\n",
    "from IPython.display import display\n",
    "display(styled_table)\n",
    "\n",
    "# Show both plot\n",
    "plt.tight_layout()\n",
    "plt.show()"
   ]
  },
  {
   "cell_type": "markdown",
   "id": "17d5110c-2100-4260-ad21-3db42062bb15",
   "metadata": {},
   "source": [
    "## Key Observations"
   ]
  },
  {
   "cell_type": "markdown",
   "id": "40af0095-ea85-455c-a148-dcb9fec071f9",
   "metadata": {},
   "source": [
    "- The model performs well on 5-star reviews, which represent the majority of the dataset. These reviews are predicted with high precision and recall, indicating the model has learned their vocabulary effectively.\n",
    "\n",
    "- 1-star reviews show moderate performance. Many are correctly classified, but some are confused with 2-star or even 5-star reviews, which could stem from sarcasm or ambiguous tone in negative comments.\n",
    "\n",
    "- 2- and 3-star reviews have poor recall, and are often misclassified as neighboring classes like 3 or 4 stars. This reflects the challenge of differentiating mid-level sentiment using TF-IDF, which doesn’t capture context.\n",
    "\n",
    "- 4-star reviews perform better than mid-range classes but worse than 5-star reviews. Showing some overlap in vocabulary and sentiment intensity."
   ]
  },
  {
   "cell_type": "markdown",
   "id": "8ad0ce82-fd46-42bf-96ad-36706c8df653",
   "metadata": {},
   "source": [
    "## Problem areas"
   ]
  },
  {
   "cell_type": "markdown",
   "id": "54983ed3-2956-49e6-94f3-c0a12568b01e",
   "metadata": {},
   "source": [
    "- The model performs well on 5-star reviews, which represent the majority of the dataset. These reviews are predicted with high precision and recall, indicating the model has learned their vocabulary effectively.\n",
    "\n",
    "- 1-star reviews show moderate performance. Many are correctly classified, but some are confused with 2-star or even 5-star reviews, which could stem from sarcasm or ambiguous tone in negative comments.\n",
    "\n",
    "- 2- and 3-star reviews have poor recall, and are often misclassified as neighboring classes like 3 or 4 stars. This reflects the challenge of differentiating mid-level sentiment using TF-IDF, which doesn’t capture context.\n",
    "\n",
    "- 4-star reviews perform better than mid-range classes but worse than 5-star reviews, again showing some overlap in vocabulary and sentiment intensity."
   ]
  },
  {
   "cell_type": "markdown",
   "id": "21d83aea-2722-4c03-9967-13435a62387e",
   "metadata": {},
   "source": [
    "The TF-IDF + Logistic Regression model is able to classify strongly positive reviews (5 stars) effectively, but struggles with mid-range sentiment (2–3 stars), which are often confused with adjacent ratings. These challenges reflect both data imbalance and the limitations of context-free features in TF-IDF. With targeted improvements in feature extraction and training strategy, performance across all classes can be improved."
   ]
  },
  {
   "cell_type": "markdown",
   "id": "684067f1",
   "metadata": {},
   "source": [
    "## Transformer-Based Sentiment Classifier (MiniLM + Logistic Regression)"
   ]
  },
  {
   "cell_type": "code",
   "execution_count": 43,
   "id": "d3330a28-6f60-43bb-8ae7-ae993d60f4ee",
   "metadata": {},
   "outputs": [
    {
     "data": {
      "text/plain": [
       "(120140, 7)"
      ]
     },
     "execution_count": 43,
     "metadata": {},
     "output_type": "execute_result"
    }
   ],
   "source": [
    "df.shape"
   ]
  },
  {
   "cell_type": "code",
   "execution_count": null,
   "id": "52a0e832",
   "metadata": {},
   "outputs": [],
   "source": [
    "from transformers import AutoTokenizer, AutoModel\n",
    "import torch\n",
    "\n",
    "#Load pre-trained tokenizer and model from sentence - transformers (MiniLM variant)\n",
    "#This model gives 384-dimensional sentence embeddings\n",
    "tokenizer = AutoTokenizer.from_pretrained('sentence-transformers/all-MiniLM-L6-v2')\n",
    "model = AutoModel.from_pretrained('sentence-transformers/all-MiniLM-L6-v2')\n",
    "\n",
    "#Define a function to compute sentence embeddings from raw text\n",
    "def get_embeddings(texts, tokenizer, model):\n",
    "    \n",
    "    #Tikenize the list of input texts into tensors / truncated to max length\n",
    "    inputs = tokenizer(texts, padding=True, truncation=True, return_tensors='pt', max_length=128)\n",
    "\n",
    "    #Turn off gradient calculations\n",
    "    with torch.no_grad():\n",
    "        \n",
    "        #Pass inputs througb transformer model\n",
    "        outputs = model(**inputs)\n",
    "        \n",
    "    return outputs.last_hidden_state[:, 0, :].cpu().numpy()\n",
    "\n",
    "#Due to computational reason, I will take few thousands of data only\n",
    "import time\n",
    "#Start timer\n",
    "start_time = time.time()\n",
    "df_sampled = df.sample(n=25000, random_state=42) if len(df) > 1000 else df.copy()\n",
    "X_embed = get_embeddings(df_sampled['comment'].tolist(), tokenizer, model)\n",
    "y = LabelEncoder().fit_transform(df_sampled['sentiment'])\n",
    "X_train, X_test, y_train, y_test = train_test_split(X_embed, y, test_size=0.2, random_state=42)\n",
    "clf = LogisticRegression(max_iter=1000)\n",
    "clf.fit(X_train, y_train)\n",
    "y_pred = clf.predict(X_test)\n",
    "print(classification_report(y_test, y_pred))\n",
    "#end timer\n",
    "end_time  = time.time()\n",
    "# Print total runtime in seconds\n",
    "print(f\"⏱️ Total execution time: {end_time - start_time:.2f} seconds\")"
   ]
  },
  {
   "cell_type": "code",
   "execution_count": null,
   "id": "042d7e9e-3f88-46af-ba2b-627e8b655b79",
   "metadata": {},
   "outputs": [],
   "source": []
  }
 ],
 "metadata": {
  "kernelspec": {
   "display_name": "Python 3 (ipykernel)",
   "language": "python",
   "name": "python3"
  },
  "language_info": {
   "codemirror_mode": {
    "name": "ipython",
    "version": 3
   },
   "file_extension": ".py",
   "mimetype": "text/x-python",
   "name": "python",
   "nbconvert_exporter": "python",
   "pygments_lexer": "ipython3",
   "version": "3.10.9"
  }
 },
 "nbformat": 4,
 "nbformat_minor": 5
}
